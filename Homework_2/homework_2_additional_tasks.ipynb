{
 "cells": [
  {
   "cell_type": "code",
   "execution_count": 3,
   "metadata": {},
   "outputs": [],
   "source": [
    "import numpy as np"
   ]
  },
  {
   "cell_type": "markdown",
   "metadata": {},
   "source": [
    "1. Создать одномерный массив Numpy под названием a из 12 последовательных целых чисел чисел от 12 до 24 невключительно."
   ]
  },
  {
   "cell_type": "code",
   "execution_count": 4,
   "metadata": {},
   "outputs": [
    {
     "name": "stdout",
     "output_type": "stream",
     "text": [
      "[12 13 14 15 16 17 18 19 20 21 22 23]\n"
     ]
    }
   ],
   "source": [
    "a = np.arange(12, 24)\n",
    "print(a)"
   ]
  },
  {
   "cell_type": "markdown",
   "metadata": {},
   "source": [
    "2. Создать 5 двумерных массивов разной формы из массива a. Не использовать в аргументах метода reshape число -1."
   ]
  },
  {
   "cell_type": "code",
   "execution_count": 13,
   "metadata": {},
   "outputs": [
    {
     "name": "stdout",
     "output_type": "stream",
     "text": [
      "[[12 13 14 15 16 17]\n",
      " [18 19 20 21 22 23]]\n",
      "[[12 13 14 15]\n",
      " [16 17 18 19]\n",
      " [20 21 22 23]]\n",
      "[[12 13 14]\n",
      " [15 16 17]\n",
      " [18 19 20]\n",
      " [21 22 23]]\n",
      "[[12 13]\n",
      " [14 15]\n",
      " [16 17]\n",
      " [18 19]\n",
      " [20 21]\n",
      " [22 23]]\n",
      "[[12]\n",
      " [13]\n",
      " [14]\n",
      " [15]\n",
      " [16]\n",
      " [17]\n",
      " [18]\n",
      " [19]\n",
      " [20]\n",
      " [21]\n",
      " [22]\n",
      " [23]]\n"
     ]
    }
   ],
   "source": [
    "a1 = a.reshape(2, 6)\n",
    "a2 = a.reshape(3, 4)\n",
    "a3 = a.reshape(4, 3)\n",
    "a4 = a.reshape(6, 2)\n",
    "a5 = a.reshape(12, 1)\n",
    "print(a1)\n",
    "print(a2)\n",
    "print(a3)\n",
    "print(a4)\n",
    "print(a5)"
   ]
  },
  {
   "cell_type": "markdown",
   "metadata": {},
   "source": [
    "3. Создать 5 двумерных массивов разной формы из массива a. Использовать в аргументах метода reshape число -1 (в трех примерах - для обозначения числа столбцов, в двух - для строк)."
   ]
  },
  {
   "cell_type": "code",
   "execution_count": 15,
   "metadata": {},
   "outputs": [
    {
     "name": "stdout",
     "output_type": "stream",
     "text": [
      "[[12 13 14 15 16 17]\n",
      " [18 19 20 21 22 23]]\n",
      "[[12 13 14 15]\n",
      " [16 17 18 19]\n",
      " [20 21 22 23]]\n",
      "[[12 13 14]\n",
      " [15 16 17]\n",
      " [18 19 20]\n",
      " [21 22 23]]\n",
      "[[12 13]\n",
      " [14 15]\n",
      " [16 17]\n",
      " [18 19]\n",
      " [20 21]\n",
      " [22 23]]\n",
      "[[12]\n",
      " [13]\n",
      " [14]\n",
      " [15]\n",
      " [16]\n",
      " [17]\n",
      " [18]\n",
      " [19]\n",
      " [20]\n",
      " [21]\n",
      " [22]\n",
      " [23]]\n"
     ]
    }
   ],
   "source": [
    "a1 = a.reshape(2, -1)\n",
    "a2 = a.reshape(3, -1)\n",
    "a3 = a.reshape(4, -1)\n",
    "a4 = a.reshape(-1, 2)\n",
    "a5 = a.reshape(-1, 1)\n",
    "print(a1)\n",
    "print(a2)\n",
    "print(a3)\n",
    "print(a4)\n",
    "print(a5)"
   ]
  },
  {
   "cell_type": "markdown",
   "metadata": {},
   "source": [
    "4. Можно ли массив Numpy, состоящий из одного столбца и 12 строк, назвать одномерным?"
   ]
  },
  {
   "cell_type": "code",
   "execution_count": 23,
   "metadata": {},
   "outputs": [
    {
     "data": {
      "text/plain": [
       "2"
      ]
     },
     "execution_count": 23,
     "metadata": {},
     "output_type": "execute_result"
    }
   ],
   "source": [
    "a5.ndim\n",
    "# Нет, так как только массив строка является одномерным массивом"
   ]
  },
  {
   "cell_type": "markdown",
   "metadata": {},
   "source": [
    "5. Создать массив из 3 строк и 4 столбцов, состоящий из случайных чисел с плавающей запятой из нормального распределения\n",
    "со средним, равным 0 и среднеквадратичным отклонением, равным 1.0.\n",
    "Получить из этого массива одномерный массив с таким же атрибутом size, как и исходный массив."
   ]
  },
  {
   "cell_type": "code",
   "execution_count": 29,
   "metadata": {},
   "outputs": [
    {
     "name": "stdout",
     "output_type": "stream",
     "text": [
      "[[-0.75270735  0.77941716 -1.03583042 -2.526887  ]\n",
      " [-0.11069637  0.91730367  1.31545596  0.81987693]\n",
      " [-0.89570065 -0.15039366  0.76848905 -0.40372119]]\n",
      "[-0.75270735  0.77941716 -1.03583042 -2.526887   -0.11069637  0.91730367\n",
      "  1.31545596  0.81987693 -0.89570065 -0.15039366  0.76848905 -0.40372119]\n"
     ]
    }
   ],
   "source": [
    "b = np.random.randn(3, 4)\n",
    "print(b)\n",
    "b1 = b.flatten()\n",
    "print(b1)"
   ]
  },
  {
   "cell_type": "markdown",
   "metadata": {},
   "source": [
    "6. Создать массив a, состоящий из целых чисел, убывающих от 20 до 0 невключительно с интервалом 2."
   ]
  },
  {
   "cell_type": "code",
   "execution_count": 30,
   "metadata": {},
   "outputs": [
    {
     "name": "stdout",
     "output_type": "stream",
     "text": [
      "[20 18 16 14 12 10  8  6  4  2]\n"
     ]
    }
   ],
   "source": [
    "a = np.arange(20, 0, -2)\n",
    "print(a)"
   ]
  },
  {
   "cell_type": "markdown",
   "metadata": {},
   "source": [
    "7. Создать массив b, состоящий из 1 строки и 10 столбцов: целых чисел, убывающих от 20 до 1 невключительно с интервалом 2. В чем разница между массивами a и b?\n"
   ]
  },
  {
   "cell_type": "code",
   "execution_count": 33,
   "metadata": {},
   "outputs": [
    {
     "name": "stdout",
     "output_type": "stream",
     "text": [
      "[[20 18 16 14 12 10  8  6  4  2]]\n"
     ]
    }
   ],
   "source": [
    "b = np.arange(20, 1, -2).reshape(1, 10)\n",
    "print(b)\n",
    "# b - двумерный массив, a - одномерный"
   ]
  },
  {
   "cell_type": "markdown",
   "metadata": {},
   "source": [
    "8. Вертикально соединить массивы a и b. a - двумерный массив из нулей, число строк которого больше 1 и на 1 меньше, \n",
    "чем число строк двумерного массива b, состоящего из единиц. Итоговый массив v должен иметь атрибут size, равный 10."
   ]
  },
  {
   "cell_type": "code",
   "execution_count": 39,
   "metadata": {},
   "outputs": [
    {
     "name": "stdout",
     "output_type": "stream",
     "text": [
      "[[0. 0.]\n",
      " [0. 0.]\n",
      " [1. 1.]\n",
      " [1. 1.]\n",
      " [1. 1.]]\n",
      "10\n"
     ]
    }
   ],
   "source": [
    "a = np.zeros((2, 2))\n",
    "b = np.ones((3, 2))\n",
    "ab_vertical = np.vstack((a, b))\n",
    "print(ab_vertical)\n",
    "print(ab_vertical.size)"
   ]
  },
  {
   "cell_type": "markdown",
   "metadata": {},
   "source": [
    "9. Создать одномерный массив а, состоящий из последовательности целых чисел от 0 до 12.\n",
    "Поменять форму этого массива, чтобы получилась матрица A (двумерный массив Numpy), состоящая из 4 строк и 3 столбцов. \n",
    "Получить матрицу At путем транспонирования матрицы A. Получить матрицу B, умножив матрицу A на матрицу At \n",
    "с помощью матричного умножения. \n",
    "Какой размер имеет матрица B? Получится ли вычислить обратную матрицу для матрицы B и почему?"
   ]
  },
  {
   "cell_type": "code",
   "execution_count": 154,
   "metadata": {},
   "outputs": [
    {
     "name": "stdout",
     "output_type": "stream",
     "text": [
      "[ 0  1  2  3  4  5  6  7  8  9 10 11]\n",
      "[[ 0  1  2]\n",
      " [ 3  4  5]\n",
      " [ 6  7  8]\n",
      " [ 9 10 11]]\n",
      "[[  5  14  23  32]\n",
      " [ 14  50  86 122]\n",
      " [ 23  86 149 212]\n",
      " [ 32 122 212 302]]\n",
      "0.0\n"
     ]
    }
   ],
   "source": [
    "a = np.arange(0, 12)\n",
    "print(a)\n",
    "A = a.reshape(4, 3)\n",
    "print(A)\n",
    "At = A.T\n",
    "B = A.dot(At)\n",
    "print(B)\n",
    "B.size\n",
    "# Матирца имеет размер 4х4\n",
    "d = np.linalg.det(B)\n",
    "print(d)\n",
    "# обратную матрицу вычислить не удастся т.к. определитель матрицы равен 0"
   ]
  },
  {
   "cell_type": "markdown",
   "metadata": {},
   "source": [
    "10.  Инициализируйте генератор случайных числе с помощью объекта seed, равного 42."
   ]
  },
  {
   "cell_type": "code",
   "execution_count": 4,
   "metadata": {},
   "outputs": [
    {
     "name": "stdout",
     "output_type": "stream",
     "text": [
      "3\n"
     ]
    }
   ],
   "source": [
    "np.random.seed(42)\n",
    "print(np.random.randint(5))"
   ]
  },
  {
   "cell_type": "markdown",
   "metadata": {},
   "source": [
    "11. Создайте одномерный массив c, составленный из последовательности 16-ти случайных равномерно распределенных\n",
    "целых чисел от 0 до 16 невключительно. "
   ]
  },
  {
   "cell_type": "code",
   "execution_count": 151,
   "metadata": {},
   "outputs": [
    {
     "name": "stdout",
     "output_type": "stream",
     "text": [
      "[ 0  7  2  2  0 10  4  9  6  9  8 11  6  8  7 11]\n"
     ]
    }
   ],
   "source": [
    "c = np.random.randint(0,16,16)\n",
    "print(c)"
   ]
  },
  {
   "cell_type": "markdown",
   "metadata": {},
   "source": [
    "12. Поменяйте его форму так, чтобы получилась квадратная матрица C. Получите матрицу D, поэлементно прибавив матрицу B из предыдущего вопроса к матрице C, умноженной на 10. Вычислите определитель, ранг и обратную матрицу D_inv для D."
   ]
  },
  {
   "cell_type": "code",
   "execution_count": 161,
   "metadata": {},
   "outputs": [
    {
     "name": "stdout",
     "output_type": "stream",
     "text": [
      "[[ 0  7  2  2]\n",
      " [ 0 10  4  9]\n",
      " [ 6  9  8 11]\n",
      " [ 6  8  7 11]]\n",
      "[[  50  147  232  322]\n",
      " [ 140  510  864 1229]\n",
      " [ 236  869 1498 2131]\n",
      " [ 326 1228 2127 3031]]\n",
      "-136042.00000001834\n",
      "4\n",
      "[[-0.4977654   0.19106599  1.05241764 -0.7645139 ]\n",
      " [ 0.21314006  0.03338675 -0.52005998  0.32945708]\n",
      " [ 0.84866438 -0.57785096 -1.25386278  1.02569795]\n",
      " [-0.62836477  0.37142941  0.97740404 -0.77070317]]\n"
     ]
    }
   ],
   "source": [
    "C = c.reshape(4, 4)\n",
    "print(C)\n",
    "D = np.add(C, (B.dot(10)))\n",
    "print(D)\n",
    "det = np.linalg.det(D)\n",
    "print(det)\n",
    "rank = np.linalg.matrix_rank(D)\n",
    "print(rank)\n",
    "D_inv = np.linalg.inv(D)\n",
    "print(D_inv)"
   ]
  },
  {
   "cell_type": "markdown",
   "metadata": {},
   "source": [
    "13. Приравняйте к нулю отрицательные числа в матрице D_inv, а положительные - к единице. \n",
    "Убедитесь, что в матрице D_inv остались только нули и единицы. С помощью функции numpy.where,\n",
    "используя матрицу D_inv в качестве маски, а матрицы B и C - в качестве источников данных,\n",
    "получите матрицу E размером 4x4.  Элементы матрицы E, для которых соответствующий элемент матрицы D_inv\n",
    "равен 1, должны быть равны соответствующему элементу матрицы B, а элементы матрицы E, \n",
    "для которых соответствующий элемент матрицы D_inv равен 0, должны быть равны соответствующему\n",
    "элементу матрицы C."
   ]
  },
  {
   "cell_type": "code",
   "execution_count": 172,
   "metadata": {},
   "outputs": [
    {
     "name": "stdout",
     "output_type": "stream",
     "text": [
      "[[0. 1. 1. 0.]\n",
      " [1. 1. 0. 1.]\n",
      " [1. 0. 0. 1.]\n",
      " [0. 1. 1. 0.]]\n",
      "Все элементы либоб 0 либо 1\n",
      "[[  0  14  23   2]\n",
      " [ 14  50   4 122]\n",
      " [ 23   9   8 212]\n",
      " [  6 122 212  11]]\n"
     ]
    }
   ],
   "source": [
    "D_inv[D_inv < 0] = 0\n",
    "D_inv[D_inv > 0] = 1\n",
    "print(D_inv)\n",
    "\n",
    "if D_inv[(D_inv != 0) & (D_inv != 1)].size == 0:\n",
    "    print('Все элементы либоб 0 либо 1')\n",
    "    \n",
    "E = np.where(D_inv, B, C)\n",
    "print(E)"
   ]
  }
 ],
 "metadata": {
  "kernelspec": {
   "display_name": "Python 3",
   "language": "python",
   "name": "python3"
  },
  "language_info": {
   "codemirror_mode": {
    "name": "ipython",
    "version": 3
   },
   "file_extension": ".py",
   "mimetype": "text/x-python",
   "name": "python",
   "nbconvert_exporter": "python",
   "pygments_lexer": "ipython3",
   "version": "3.7.4"
  }
 },
 "nbformat": 4,
 "nbformat_minor": 2
}
