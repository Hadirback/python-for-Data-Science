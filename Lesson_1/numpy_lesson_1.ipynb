{
 "cells": [
  {
   "cell_type": "code",
   "execution_count": 2,
   "metadata": {},
   "outputs": [],
   "source": [
    "import numpy as np"
   ]
  },
  {
   "cell_type": "code",
   "execution_count": 3,
   "metadata": {},
   "outputs": [
    {
     "name": "stdout",
     "output_type": "stream",
     "text": [
      "[0 1 2 3 4 5 6 7 8 9]\n",
      "<class 'numpy.ndarray'>\n"
     ]
    }
   ],
   "source": [
    "b = np.array([i for i in range(10)])\n",
    "print(b)\n",
    "print(type(b))"
   ]
  },
  {
   "cell_type": "code",
   "execution_count": 7,
   "metadata": {},
   "outputs": [
    {
     "name": "stdout",
     "output_type": "stream",
     "text": [
      "[1 2 3 4 5 6 7]\n"
     ]
    }
   ],
   "source": [
    "# можем создавать массив из кортежа\n",
    "c = (1,2,3,4,5,6,7)\n",
    "b = np.array(c)\n",
    "print(b)"
   ]
  },
  {
   "cell_type": "code",
   "execution_count": 9,
   "metadata": {},
   "outputs": [
    {
     "name": "stdout",
     "output_type": "stream",
     "text": [
      "[1. 2. 3. 4. 5. 6. 7. 8.]\n"
     ]
    }
   ],
   "source": [
    "# можем создвать массив только с определенным типом данных\n",
    "a = [1,2,3,4,5,6,7,8]\n",
    "b = np.array(a, dtype = float)\n",
    "print(b)"
   ]
  },
  {
   "cell_type": "code",
   "execution_count": 12,
   "metadata": {},
   "outputs": [
    {
     "name": "stdout",
     "output_type": "stream",
     "text": [
      "[1 2 3 4 5 6 7 8 9]\n",
      "int32\n",
      "['1' '2' '3' '4' '5' '6' '7' '8' '9.9']\n",
      "<U3\n"
     ]
    }
   ],
   "source": [
    "a = [1,2,3,4,5,6,7,8,9.9]\n",
    "b = np.array(a, dtype = int)\n",
    "print(b)\n",
    "print(b.dtype)\n",
    "b = np.array(a, dtype = str)\n",
    "print(b)\n",
    "print(b.dtype)"
   ]
  },
  {
   "cell_type": "code",
   "execution_count": 14,
   "metadata": {},
   "outputs": [
    {
     "name": "stdout",
     "output_type": "stream",
     "text": [
      "1\n",
      "(9,)\n"
     ]
    }
   ],
   "source": [
    "# Размерность массива\n",
    "print(b.ndim)\n",
    "# Количество элементов\n",
    "print(b.shape)"
   ]
  },
  {
   "cell_type": "code",
   "execution_count": 22,
   "metadata": {},
   "outputs": [
    {
     "name": "stdout",
     "output_type": "stream",
     "text": [
      "[[ 1  2  3  4  5  6]\n",
      " [ 7  8  9  0  1  2]\n",
      " [13 35 64 75 43 12]]\n",
      "2\n",
      "(3, 6)\n",
      "18\n"
     ]
    }
   ],
   "source": [
    "# двумерный массив:\n",
    "b = np.array([[1, 2, 3, 4, 5, 6], [7, 8, 9, 0, 1, 2], [13, 35, 64, 75, 43, 12]])\n",
    "print(b)\n",
    "print(b.ndim)\n",
    "print(b.shape)\n",
    "# общее количество элементов\n",
    "print(b.size)"
   ]
  },
  {
   "cell_type": "code",
   "execution_count": 29,
   "metadata": {},
   "outputs": [
    {
     "name": "stdout",
     "output_type": "stream",
     "text": [
      "7\n",
      "8\n"
     ]
    }
   ],
   "source": [
    "# доступ к элементам строка - столбец\n",
    "print(b[1][0])\n",
    "print(b[1, 1])"
   ]
  },
  {
   "cell_type": "code",
   "execution_count": 28,
   "metadata": {},
   "outputs": [
    {
     "data": {
      "text/plain": [
       "array([[1, 2, 3],\n",
       "       [7, 8, 9]])"
      ]
     },
     "execution_count": 28,
     "metadata": {},
     "output_type": "execute_result"
    }
   ],
   "source": [
    "# можно делать срез [от строки:по строку][от столбца:по столбец]\n",
    "b[0:2, 0:3]"
   ]
  },
  {
   "cell_type": "code",
   "execution_count": 30,
   "metadata": {},
   "outputs": [
    {
     "data": {
      "text/plain": [
       "array([[ 0,  1,  2],\n",
       "       [75, 43, 12]])"
      ]
     },
     "execution_count": 30,
     "metadata": {},
     "output_type": "execute_result"
    }
   ],
   "source": [
    "b[1:, 3:]"
   ]
  },
  {
   "cell_type": "code",
   "execution_count": 38,
   "metadata": {},
   "outputs": [
    {
     "name": "stdout",
     "output_type": "stream",
     "text": [
      "[[ 0  1  2]\n",
      " [75 43 12]]\n"
     ]
    }
   ],
   "source": [
    "c = b[1:, 3:]\n",
    "print(c)"
   ]
  },
  {
   "cell_type": "code",
   "execution_count": 40,
   "metadata": {},
   "outputs": [
    {
     "name": "stdout",
     "output_type": "stream",
     "text": [
      "[[  0 999   2]\n",
      " [ 75  43  12]]\n",
      "[[  1   2   3   4   5   6]\n",
      " [  7   8   9   0 999   2]\n",
      " [ 13  35  64  75  43  12]]\n"
     ]
    }
   ],
   "source": [
    "# если мы поменяем в матрице c элемент то он так же изменится и в b\n",
    "c[0, 1] = 999\n",
    "print(c)\n",
    "print(b)"
   ]
  },
  {
   "cell_type": "code",
   "execution_count": 41,
   "metadata": {},
   "outputs": [
    {
     "name": "stdout",
     "output_type": "stream",
     "text": [
      "[[777 999   2]\n",
      " [ 75  43  12]]\n",
      "[[  1   2   3   4   5   6]\n",
      " [  7   8   9   0 999   2]\n",
      " [ 13  35  64  75  43  12]]\n"
     ]
    }
   ],
   "source": [
    "# если мы хотим чтобы с был отдельным элементом то необходимо применить copy\n",
    "c = b[1:, 3:].copy()\n",
    "c[0, 0] = 777\n",
    "print(c)\n",
    "print(b)"
   ]
  },
  {
   "cell_type": "code",
   "execution_count": 43,
   "metadata": {},
   "outputs": [
    {
     "name": "stdout",
     "output_type": "stream",
     "text": [
      "float32\n",
      "float64\n",
      "int32\n",
      "int64\n"
     ]
    }
   ],
   "source": [
    "# типы данных \n",
    "b = np.array([1.,2.,3.], dtype=np.float32)\n",
    "print(b.dtype)\n",
    "b = np.array([1.,2.,3.], dtype=np.float64)\n",
    "print(b.dtype)\n",
    "b = np.array([1.,2.,3.], dtype=np.int32)\n",
    "print(b.dtype)\n",
    "b = np.array([1.,2.,3.], dtype=np.int64)\n",
    "print(b.dtype)"
   ]
  },
  {
   "cell_type": "code",
   "execution_count": 44,
   "metadata": {},
   "outputs": [
    {
     "name": "stdout",
     "output_type": "stream",
     "text": [
      "[ 6  8 10 12 14]\n"
     ]
    }
   ],
   "source": [
    "# применение библиотеки numpy для линейной алгебры\n",
    "a = np.array([1,2,3,4,5])\n",
    "b = np.array([5,6,7,8,9])\n",
    "# сложение\n",
    "c = a + b\n",
    "print(c)"
   ]
  },
  {
   "cell_type": "code",
   "execution_count": 45,
   "metadata": {},
   "outputs": [
    {
     "name": "stdout",
     "output_type": "stream",
     "text": [
      "[1, 2, 3, 4, 5, 5, 6, 7, 8, 9]\n"
     ]
    }
   ],
   "source": [
    "# для сравнения списки в python\n",
    "x1 = [1,2,3,4,5]\n",
    "x2 = [5,6,7,8,9]\n",
    "print(x1 + x2)"
   ]
  },
  {
   "cell_type": "code",
   "execution_count": 47,
   "metadata": {},
   "outputs": [
    {
     "name": "stdout",
     "output_type": "stream",
     "text": [
      "[ 6  8 10 12 14]\n"
     ]
    }
   ],
   "source": [
    "# чтобы не запутаться функция add\n",
    "c = np.add(a, b)\n",
    "print(c)"
   ]
  },
  {
   "cell_type": "code",
   "execution_count": 139,
   "metadata": {},
   "outputs": [],
   "source": [
    "# если количестов элементов разное то результаты + и add  - ошибка\n",
    "a1 = np.array([1,2,3,4,5,8])\n",
    "b1 = np.array([5,6,7,8,9])\n"
   ]
  },
  {
   "cell_type": "code",
   "execution_count": 50,
   "metadata": {},
   "outputs": [
    {
     "name": "stdout",
     "output_type": "stream",
     "text": [
      "[-4 -4 -4 -4 -4]\n",
      "[-4 -4 -4 -4 -4]\n"
     ]
    }
   ],
   "source": [
    "d = a - b\n",
    "print(d)\n",
    "print(np.subtract(a, b))"
   ]
  },
  {
   "cell_type": "code",
   "execution_count": 55,
   "metadata": {},
   "outputs": [
    {
     "name": "stdout",
     "output_type": "stream",
     "text": [
      "[ 2  4  6  8 10]\n",
      "[-10 -20 -30 -40 -50]\n",
      "[-10 -20 -30 -40 -50]\n",
      "[-10 -20 -30 -40 -50]\n"
     ]
    }
   ],
   "source": [
    "# умножение\n",
    "print(a * 2)\n",
    "print(np.dot(-10, a))\n",
    "print(a.dot(-10))\n",
    "print(np.multiply(-10, a))"
   ]
  },
  {
   "cell_type": "code",
   "execution_count": 53,
   "metadata": {},
   "outputs": [
    {
     "name": "stdout",
     "output_type": "stream",
     "text": [
      "[1, 2, 3, 1, 2, 3]\n"
     ]
    }
   ],
   "source": [
    "# умножение в спискох приводит к другим результатам - дублирование\n",
    "print(2 * [1,2,3])"
   ]
  },
  {
   "cell_type": "code",
   "execution_count": 56,
   "metadata": {},
   "outputs": [
    {
     "name": "stdout",
     "output_type": "stream",
     "text": [
      "115\n",
      "115\n"
     ]
    }
   ],
   "source": [
    "# скалярное произведение\n",
    "sp = a @ b\n",
    "print(sp)\n",
    "print(np.dot(a, b))"
   ]
  },
  {
   "cell_type": "code",
   "execution_count": 59,
   "metadata": {},
   "outputs": [
    {
     "name": "stdout",
     "output_type": "stream",
     "text": [
      "[[ 6  8]\n",
      " [10 12]\n",
      " [14 16]]\n",
      "[[ 6  8]\n",
      " [10 12]\n",
      " [14 16]]\n"
     ]
    }
   ],
   "source": [
    "# операции с матрицами\n",
    "A = np.array([[0, 1], [2, 3], [4, 5]])\n",
    "B = np.array([[6, 7], [8, 9], [10, 11]])\n",
    "\n",
    "# сложение\n",
    "C = A + B\n",
    "print(C)\n",
    "print(np.add(A, B))"
   ]
  },
  {
   "cell_type": "code",
   "execution_count": 61,
   "metadata": {},
   "outputs": [
    {
     "name": "stdout",
     "output_type": "stream",
     "text": [
      "[[-6 -6]\n",
      " [-6 -6]\n",
      " [-6 -6]]\n",
      "[[-6 -6]\n",
      " [-6 -6]\n",
      " [-6 -6]]\n"
     ]
    }
   ],
   "source": [
    "# вычитание\n",
    "print(A - B)\n",
    "print(np.subtract(A, B))"
   ]
  },
  {
   "cell_type": "code",
   "execution_count": 63,
   "metadata": {},
   "outputs": [
    {
     "name": "stdout",
     "output_type": "stream",
     "text": [
      "[[ 0  3]\n",
      " [ 6  9]\n",
      " [12 15]]\n",
      "[[ 0  3]\n",
      " [ 6  9]\n",
      " [12 15]]\n"
     ]
    }
   ],
   "source": [
    "# умножение на скаляр\n",
    "Y = A * 3\n",
    "print(Y)\n",
    "print(np.dot(A, 3))"
   ]
  },
  {
   "cell_type": "code",
   "execution_count": 68,
   "metadata": {},
   "outputs": [
    {
     "data": {
      "text/plain": [
       "True"
      ]
     },
     "execution_count": 68,
     "metadata": {},
     "output_type": "execute_result"
    }
   ],
   "source": [
    "# умножение матриц друг на друга\n",
    "X1 = np.array([[1,2], [2,3], [4,5]])\n",
    "X2 = np.array([[1,2,3,4], [4,5,6,7]])\n",
    "X1.shape[1] == X2.shape[0]"
   ]
  },
  {
   "cell_type": "code",
   "execution_count": 70,
   "metadata": {},
   "outputs": [
    {
     "name": "stdout",
     "output_type": "stream",
     "text": [
      "[[ 9 12 15 18]\n",
      " [14 19 24 29]\n",
      " [24 33 42 51]]\n"
     ]
    }
   ],
   "source": [
    "Z = np.dot(X1, X2)\n",
    "print(Z)"
   ]
  },
  {
   "cell_type": "code",
   "execution_count": 76,
   "metadata": {},
   "outputs": [
    {
     "name": "stdout",
     "output_type": "stream",
     "text": [
      "[[ 15  18  21]\n",
      " [ 42  54  66]\n",
      " [ 69  90 111]]\n",
      "[[ 15  18  21]\n",
      " [ 42  54  66]\n",
      " [ 69  90 111]]\n"
     ]
    }
   ],
   "source": [
    "# возведение матрицы в квадрат - матрица должна быть квадратной\n",
    "A_s = np.array([[0,1,2], [3,4,5], [6,7,8]])\n",
    "print(np.dot(A_s,A_s))\n",
    "print(np.linalg.matrix_power(A_s, 2))"
   ]
  },
  {
   "cell_type": "code",
   "execution_count": 80,
   "metadata": {},
   "outputs": [
    {
     "name": "stdout",
     "output_type": "stream",
     "text": [
      "[[1. 0.]\n",
      " [0. 1.]]\n",
      "[[0. 1.]\n",
      " [2. 3.]\n",
      " [4. 5.]]\n",
      "[[0. 1.]\n",
      " [2. 3.]\n",
      " [4. 5.]]\n"
     ]
    }
   ],
   "source": [
    "# создание единичной матрицы\n",
    "I = np.eye(2)\n",
    "A = np.array([[0, 1], [2, 3], [4, 5]])\n",
    "print(I)\n",
    "print(np.dot(A, I))\n",
    "I = np.eye(3)\n",
    "print(np.dot(I, A))"
   ]
  },
  {
   "cell_type": "code",
   "execution_count": 82,
   "metadata": {},
   "outputs": [
    {
     "name": "stdout",
     "output_type": "stream",
     "text": [
      "[[0 2 4]\n",
      " [1 3 5]]\n",
      "[[0 2 4]\n",
      " [1 3 5]]\n"
     ]
    }
   ],
   "source": [
    "# транспонирование матрицы\n",
    "A = np.array([[0, 1], [2, 3], [4, 5]])\n",
    "At = A.transpose()\n",
    "print(At)\n",
    "\n",
    "At = A.T\n",
    "print(At)"
   ]
  },
  {
   "cell_type": "code",
   "execution_count": 83,
   "metadata": {},
   "outputs": [
    {
     "name": "stdout",
     "output_type": "stream",
     "text": [
      "[[0 2 3 5]\n",
      " [1 1 4 6]]\n"
     ]
    }
   ],
   "source": [
    "X = np.array([[1,2],[3,4],[5,6]])\n",
    "Y = np.array([[0,1],[2,1],[3,4],[5,6]])\n",
    "Yt = Y.T\n",
    "print(Yt)"
   ]
  },
  {
   "cell_type": "code",
   "execution_count": 84,
   "metadata": {},
   "outputs": [
    {
     "name": "stdout",
     "output_type": "stream",
     "text": [
      "[[ 2  4 11 17]\n",
      " [ 4 10 25 39]\n",
      " [ 6 16 39 61]]\n"
     ]
    }
   ],
   "source": [
    "print(np.dot(X, Yt))"
   ]
  },
  {
   "cell_type": "code",
   "execution_count": 88,
   "metadata": {},
   "outputs": [
    {
     "name": "stdout",
     "output_type": "stream",
     "text": [
      "0.0\n",
      "2\n"
     ]
    }
   ],
   "source": [
    "# определитель матрицы\n",
    "A_s = np.array([[0,1,2], [3,4,5], [6,7,8]])\n",
    "print(np.linalg.det(A_s))\n",
    "# ранг матрицы\n",
    "print(np.linalg.matrix_rank(A_s))"
   ]
  },
  {
   "cell_type": "code",
   "execution_count": 90,
   "metadata": {},
   "outputs": [
    {
     "name": "stdout",
     "output_type": "stream",
     "text": [
      "[[-0.87745098  0.42156863 -0.04411765]\n",
      " [ 0.02941176 -0.05882353  0.02941176]\n",
      " [ 0.48529412  0.02941176 -0.01470588]]\n"
     ]
    }
   ],
   "source": [
    "# обратная матрица\n",
    "A_s = np.array([[0,1,2], [3,7,5], [6,47,8]])\n",
    "A_inv = np.linalg.inv(A_s)\n",
    "print(A_inv)"
   ]
  },
  {
   "cell_type": "code",
   "execution_count": 91,
   "metadata": {},
   "outputs": [
    {
     "name": "stdout",
     "output_type": "stream",
     "text": [
      "[[-0.  1.  2.]\n",
      " [ 3.  7.  5.]\n",
      " [ 6. 47.  8.]]\n"
     ]
    }
   ],
   "source": [
    "A_inv_inv = np.linalg.inv(A_inv)\n",
    "print(A_inv_inv)"
   ]
  },
  {
   "cell_type": "code",
   "execution_count": 92,
   "metadata": {},
   "outputs": [
    {
     "name": "stdout",
     "output_type": "stream",
     "text": [
      "[[0. 0. 0. 0.]\n",
      " [0. 0. 0. 0.]\n",
      " [0. 0. 0. 0.]]\n"
     ]
    }
   ],
   "source": [
    "# Автоматическое создание массивов\n",
    "# нулей\n",
    "a = np.zeros((3, 4))\n",
    "print(a)"
   ]
  },
  {
   "cell_type": "code",
   "execution_count": 93,
   "metadata": {},
   "outputs": [
    {
     "name": "stdout",
     "output_type": "stream",
     "text": [
      "[[1. 1. 1.]\n",
      " [1. 1. 1.]\n",
      " [1. 1. 1.]\n",
      " [1. 1. 1.]\n",
      " [1. 1. 1.]]\n"
     ]
    }
   ],
   "source": [
    "a = np.ones((5, 3))\n",
    "print(a)"
   ]
  },
  {
   "cell_type": "code",
   "execution_count": 96,
   "metadata": {},
   "outputs": [
    {
     "name": "stdout",
     "output_type": "stream",
     "text": [
      "[0 1 2 3 4 5 6 7 8 9]\n",
      "[4 5 6 7 8 9]\n",
      "[ 4  9 14 19 24 29 34 39]\n"
     ]
    }
   ],
   "source": [
    "# массив с последовательностью\n",
    "print(np.arange(10))\n",
    "print(np.arange(4, 10))\n",
    "print(np.arange(4, 40, 5))"
   ]
  },
  {
   "cell_type": "code",
   "execution_count": 98,
   "metadata": {},
   "outputs": [
    {
     "name": "stdout",
     "output_type": "stream",
     "text": [
      "[0.  0.1 0.2 0.3 0.4 0.5 0.6 0.7 0.8 0.9 1.  1.1 1.2 1.3 1.4 1.5 1.6 1.7\n",
      " 1.8 1.9 2.  2.1 2.2 2.3 2.4 2.5 2.6 2.7 2.8 2.9 3.  3.1 3.2 3.3 3.4 3.5\n",
      " 3.6 3.7 3.8 3.9 4.  4.1 4.2 4.3 4.4 4.5 4.6 4.7 4.8 4.9 5.  5.1 5.2 5.3\n",
      " 5.4 5.5 5.6 5.7 5.8 5.9 6.  6.1 6.2 6.3 6.4 6.5 6.6 6.7 6.8 6.9 7.  7.1\n",
      " 7.2 7.3 7.4 7.5 7.6 7.7 7.8 7.9 8.  8.1 8.2 8.3 8.4 8.5 8.6 8.7 8.8 8.9\n",
      " 9.  9.1 9.2 9.3 9.4 9.5 9.6 9.7 9.8 9.9]\n"
     ]
    }
   ],
   "source": [
    "# в arange - правая граница не включается, а в linspace включена\n",
    "print(np.linspace(0, 9.9, 100))"
   ]
  },
  {
   "cell_type": "code",
   "execution_count": 101,
   "metadata": {},
   "outputs": [
    {
     "name": "stdout",
     "output_type": "stream",
     "text": [
      "[   1.            5.62341325   31.6227766   177.827941   1000.        ]\n"
     ]
    }
   ],
   "source": [
    "# в качестве левой и правой границы мы указываем степени числа 10\n",
    "print(np.logspace(0, 3, 5))"
   ]
  },
  {
   "cell_type": "code",
   "execution_count": 102,
   "metadata": {},
   "outputs": [
    {
     "name": "stdout",
     "output_type": "stream",
     "text": [
      "0.7856263264325338\n"
     ]
    }
   ],
   "source": [
    "# генерация рандомных чисел в промежуткке от 0.0 до 0.1\n",
    "print(np.random.sample())"
   ]
  },
  {
   "cell_type": "code",
   "execution_count": 103,
   "metadata": {},
   "outputs": [
    {
     "name": "stdout",
     "output_type": "stream",
     "text": [
      "[0.25074723 0.44998443 0.38895102 0.40032037]\n"
     ]
    }
   ],
   "source": [
    "# если указываем аргумент - то получим количество рандомных чисел\n",
    "print(np.random.sample(4))"
   ]
  },
  {
   "cell_type": "code",
   "execution_count": 105,
   "metadata": {},
   "outputs": [
    {
     "name": "stdout",
     "output_type": "stream",
     "text": [
      "[[0.36060598 0.89032472 0.7238171  0.87456063]\n",
      " [0.07995746 0.35500307 0.49039798 0.90834573]]\n"
     ]
    }
   ],
   "source": [
    "print(np.random.sample((2,4)))"
   ]
  },
  {
   "cell_type": "code",
   "execution_count": 112,
   "metadata": {},
   "outputs": [
    {
     "name": "stdout",
     "output_type": "stream",
     "text": [
      "[ 0.41581592  1.88678594  0.0084464  -0.83234586 -2.14586773 -0.45507722\n",
      " -0.5610883   1.09222168 -0.05961667  0.99728536]\n",
      "[[ 0.83258429  1.03047758 -0.22542826  1.05555139]\n",
      " [-0.27161011  1.49097355  0.80324087  0.22852555]\n",
      " [-2.3237688  -0.94123453  0.22305405 -0.98837188]]\n"
     ]
    }
   ],
   "source": [
    "# нормальное распределение среднее значение - 0, среднеквадратичное откланение - 1\n",
    "print(np.random.randn(10)) #  аргумент - количество чисел\n",
    "print(np.random.randn(3, 4)) # массив"
   ]
  },
  {
   "cell_type": "code",
   "execution_count": 111,
   "metadata": {},
   "outputs": [
    {
     "name": "stdout",
     "output_type": "stream",
     "text": [
      "[ 70 105  91 137  38 184 128  95  14  47]\n",
      "[[  4  75  21  39]\n",
      " [108 191  23 195]\n",
      " [168 197  62 169]]\n"
     ]
    }
   ],
   "source": [
    "# массив целых чисел\n",
    "print(np.random.randint(0, 199, 10)) # 10 чисел в заданном промежутке\n",
    "print(np.random.randint(0, 199, (3, 4))) # массив в заданном промежутке"
   ]
  },
  {
   "cell_type": "code",
   "execution_count": 115,
   "metadata": {},
   "outputs": [
    {
     "name": "stdout",
     "output_type": "stream",
     "text": [
      "1\n",
      "[3 2]\n"
     ]
    }
   ],
   "source": [
    "# случайный выбор из элементов массива\n",
    "b = np.array([1,2,3,4,5,6,7,8])\n",
    "print(np.random.choice(b))\n",
    "print(np.random.choice(b, 2)) # аргумент - количество чисел\n"
   ]
  },
  {
   "cell_type": "code",
   "execution_count": 117,
   "metadata": {},
   "outputs": [
    {
     "name": "stdout",
     "output_type": "stream",
     "text": [
      "[6 3 7]\n"
     ]
    }
   ],
   "source": [
    "# random - псевдо случайное число numpy.random.seed - инициализация генератора случайных чисел\n",
    "np.random.seed(42)\n",
    "print(np.random.randint(0,10,3))"
   ]
  },
  {
   "cell_type": "code",
   "execution_count": 127,
   "metadata": {},
   "outputs": [
    {
     "name": "stdout",
     "output_type": "stream",
     "text": [
      "[ 0  1  2  3  4  5  6  7  8  9 10 11]\n",
      "[[ 0  1  2  3]\n",
      " [ 4  5  6  7]\n",
      " [ 8  9 10 11]]\n",
      "[[ 0  1  2  3]\n",
      " [ 4  5  6  7]\n",
      " [ 8  9 10 11]]\n"
     ]
    }
   ],
   "source": [
    "# изменение формы массива\n",
    "a = np.arange(12)\n",
    "b = np.arange(12)\n",
    "print(a)\n",
    "print(a.reshape(3, 4))\n",
    "print(b.reshape(3, -1))"
   ]
  },
  {
   "cell_type": "code",
   "execution_count": 133,
   "metadata": {},
   "outputs": [
    {
     "name": "stdout",
     "output_type": "stream",
     "text": [
      "[[ 0  1  2  3  4  5]\n",
      " [ 6  7  8  9 10 11]]\n"
     ]
    }
   ],
   "source": [
    "# изменение формы на месте\n",
    "a = np.arange(12)\n",
    "a.resize(2, 6)\n",
    "print(a)"
   ]
  },
  {
   "cell_type": "code",
   "execution_count": 134,
   "metadata": {},
   "outputs": [
    {
     "name": "stdout",
     "output_type": "stream",
     "text": [
      "[ 0  1  2  3  4  5  6  7  8  9 10 11]\n"
     ]
    }
   ],
   "source": [
    "# из многомерного массива одномерный массив\n",
    "a = a.flatten()\n",
    "print(a)"
   ]
  },
  {
   "cell_type": "code",
   "execution_count": 136,
   "metadata": {},
   "outputs": [
    {
     "name": "stdout",
     "output_type": "stream",
     "text": [
      "[[0. 0. 0.]\n",
      " [0. 0. 0.]\n",
      " [1. 1. 1.]\n",
      " [1. 1. 1.]]\n",
      "[[0. 0. 0.]\n",
      " [0. 0. 0.]\n",
      " [1. 1. 1.]\n",
      " [1. 1. 1.]]\n"
     ]
    }
   ],
   "source": [
    "# соединение массивов вертикально\n",
    "a = np.zeros((2, 3))\n",
    "b = np.ones((2, 3))\n",
    "v = np.vstack((a, b))\n",
    "print(v)\n",
    "\n",
    "print(np.concatenate((a, b), axis = 0))"
   ]
  },
  {
   "cell_type": "code",
   "execution_count": 137,
   "metadata": {},
   "outputs": [
    {
     "name": "stdout",
     "output_type": "stream",
     "text": [
      "[[0. 0. 0. 1. 1. 1.]\n",
      " [0. 0. 0. 1. 1. 1.]]\n",
      "[[0. 0. 0. 1. 1. 1.]\n",
      " [0. 0. 0. 1. 1. 1.]]\n"
     ]
    }
   ],
   "source": [
    "# соединение массивов горизонтально\n",
    "h = np.hstack((a, b))\n",
    "print(h)\n",
    "print(np.concatenate((a,b), axis = 1))"
   ]
  },
  {
   "cell_type": "code",
   "execution_count": 138,
   "metadata": {},
   "outputs": [
    {
     "name": "stdout",
     "output_type": "stream",
     "text": [
      "[[[0. 1.]\n",
      "  [0. 1.]\n",
      "  [0. 1.]]\n",
      "\n",
      " [[0. 1.]\n",
      "  [0. 1.]\n",
      "  [0. 1.]]]\n"
     ]
    }
   ],
   "source": [
    "# соединение в глубину\n",
    "print(np.dstack([a, b]))"
   ]
  },
  {
   "cell_type": "code",
   "execution_count": 140,
   "metadata": {},
   "outputs": [
    {
     "name": "stdout",
     "output_type": "stream",
     "text": [
      "[ 6 18 10 10  3  7  2  1 11  5]\n"
     ]
    }
   ],
   "source": [
    "# выбор данных из массива\n",
    "a = np.random.randint(0, 20, 10)\n",
    "print(a)"
   ]
  },
  {
   "cell_type": "code",
   "execution_count": 141,
   "metadata": {},
   "outputs": [
    {
     "name": "stdout",
     "output_type": "stream",
     "text": [
      "[18 11]\n"
     ]
    }
   ],
   "source": [
    "print(a[a > 10])"
   ]
  },
  {
   "cell_type": "code",
   "execution_count": 144,
   "metadata": {},
   "outputs": [
    {
     "name": "stdout",
     "output_type": "stream",
     "text": [
      "[18]\n"
     ]
    }
   ],
   "source": [
    "print(a[(a > 10) & (a % 2 == 0)])"
   ]
  },
  {
   "cell_type": "code",
   "execution_count": 145,
   "metadata": {},
   "outputs": [
    {
     "name": "stdout",
     "output_type": "stream",
     "text": [
      "[ 6 18 10 10  2 11]\n"
     ]
    }
   ],
   "source": [
    "print(a[(a > 10) | (a % 2 == 0)])"
   ]
  },
  {
   "cell_type": "code",
   "execution_count": 147,
   "metadata": {},
   "outputs": [
    {
     "name": "stdout",
     "output_type": "stream",
     "text": [
      "[ 6 18 10 10  3  7  2  1 11  5]\n",
      "(array([1, 8], dtype=int64),)\n"
     ]
    }
   ],
   "source": [
    "# выборка - where - возвращает индексы соответствующих условию элементов\n",
    "print(a)\n",
    "print(np.where(a > 10))"
   ]
  },
  {
   "cell_type": "code",
   "execution_count": 148,
   "metadata": {},
   "outputs": [
    {
     "data": {
      "text/plain": [
       "array([18, 11])"
      ]
     },
     "execution_count": 148,
     "metadata": {},
     "output_type": "execute_result"
    }
   ],
   "source": [
    "a[np.where(a > 10)]"
   ]
  },
  {
   "cell_type": "code",
   "execution_count": 149,
   "metadata": {},
   "outputs": [
    {
     "data": {
      "text/plain": [
       "array([1, 2, 7])"
      ]
     },
     "execution_count": 149,
     "metadata": {},
     "output_type": "execute_result"
    }
   ],
   "source": [
    "# Если в условии true то берем из а если false то из b\n",
    "a = [1, 4, 7]\n",
    "b = [9, 2, 5]\n",
    "np.where([True, False, True], a, b)"
   ]
  },
  {
   "cell_type": "code",
   "execution_count": 150,
   "metadata": {},
   "outputs": [
    {
     "data": {
      "text/plain": [
       "array([[1, 3, 9, 9],\n",
       "       [2, 7, 3, 5],\n",
       "       [5, 0, 1, 5]])"
      ]
     },
     "execution_count": 150,
     "metadata": {},
     "output_type": "execute_result"
    }
   ],
   "source": [
    "# сортировка\n",
    "a = np.array([[1, 3, 9, 9], [5, 0, 1, 5], [2, 7, 3, 5]])\n",
    "# отсортируем по 2 столбцу\n",
    "a[[0, 2, 1], :]"
   ]
  },
  {
   "cell_type": "code",
   "execution_count": 151,
   "metadata": {},
   "outputs": [
    {
     "data": {
      "text/plain": [
       "array([[0, 1, 1, 1],\n",
       "       [2, 0, 2, 2],\n",
       "       [1, 2, 0, 0]], dtype=int64)"
      ]
     },
     "execution_count": 151,
     "metadata": {},
     "output_type": "execute_result"
    }
   ],
   "source": [
    "a.argsort(axis = 0)"
   ]
  },
  {
   "cell_type": "code",
   "execution_count": 152,
   "metadata": {},
   "outputs": [
    {
     "data": {
      "text/plain": [
       "array([0, 2, 1], dtype=int64)"
      ]
     },
     "execution_count": 152,
     "metadata": {},
     "output_type": "execute_result"
    }
   ],
   "source": [
    "a[:, 0].argsort()"
   ]
  },
  {
   "cell_type": "code",
   "execution_count": 153,
   "metadata": {},
   "outputs": [
    {
     "data": {
      "text/plain": [
       "array([[1, 3, 9, 9],\n",
       "       [2, 7, 3, 5],\n",
       "       [5, 0, 1, 5]])"
      ]
     },
     "execution_count": 153,
     "metadata": {},
     "output_type": "execute_result"
    }
   ],
   "source": [
    "a[a[:, 0].argsort(), :]"
   ]
  },
  {
   "cell_type": "code",
   "execution_count": 154,
   "metadata": {},
   "outputs": [
    {
     "name": "stdout",
     "output_type": "stream",
     "text": [
      "[5 2 7 6 8 9 3 0 4 1]\n"
     ]
    }
   ],
   "source": [
    "# случайное перемешивание\n",
    "a = np.arange(10)\n",
    "np.random.shuffle(a)\n",
    "print(a)"
   ]
  },
  {
   "cell_type": "code",
   "execution_count": 158,
   "metadata": {},
   "outputs": [
    {
     "name": "stdout",
     "output_type": "stream",
     "text": [
      "[[ 0  1  2]\n",
      " [ 9 10 11]\n",
      " [ 6  7  8]\n",
      " [ 3  4  5]]\n"
     ]
    }
   ],
   "source": [
    "# перемешиваются только строки\n",
    "\n",
    "am = np.arange(12).reshape(4, 3)\n",
    "np.random.shuffle(am)\n",
    "print(am)"
   ]
  },
  {
   "cell_type": "code",
   "execution_count": 159,
   "metadata": {},
   "outputs": [
    {
     "name": "stdout",
     "output_type": "stream",
     "text": [
      "[[0.         0.69314718 1.09861229]\n",
      " [1.38629436 1.60943791 1.79175947]]\n"
     ]
    }
   ],
   "source": [
    "# Математические действия ко всему массиву\n",
    "a = np.arange(1, 7).reshape(2, 3)\n",
    "# вычисляем логарифм по отношению к каждому элементу\n",
    "print(np.log(a))"
   ]
  },
  {
   "cell_type": "code",
   "execution_count": 160,
   "metadata": {},
   "outputs": [
    {
     "name": "stdout",
     "output_type": "stream",
     "text": [
      "[[  2.71828183   7.3890561   20.08553692]\n",
      " [ 54.59815003 148.4131591  403.42879349]]\n"
     ]
    }
   ],
   "source": [
    "# вычислим экспоненту\n",
    "print(np.exp(a))"
   ]
  },
  {
   "cell_type": "code",
   "execution_count": 161,
   "metadata": {},
   "outputs": [
    {
     "data": {
      "text/plain": [
       "array([5, 7, 9])"
      ]
     },
     "execution_count": 161,
     "metadata": {},
     "output_type": "execute_result"
    }
   ],
   "source": [
    "# сумма по каждому столбцу\n",
    "a.sum(axis = 0)"
   ]
  },
  {
   "cell_type": "code",
   "execution_count": 162,
   "metadata": {},
   "outputs": [
    {
     "data": {
      "text/plain": [
       "array([ 6, 15])"
      ]
     },
     "execution_count": 162,
     "metadata": {},
     "output_type": "execute_result"
    }
   ],
   "source": [
    "a.sum(axis = 1)"
   ]
  },
  {
   "cell_type": "code",
   "execution_count": 167,
   "metadata": {},
   "outputs": [
    {
     "name": "stdout",
     "output_type": "stream",
     "text": [
      "[[ 0  1  2  3]\n",
      " [ 4  5  6  7]\n",
      " [ 8  9 10 11]]\n",
      "[[12 13 14 15]\n",
      " [16 17 18 19]\n",
      " [20 21 22 23]]\n",
      "[[  0  13  28  45]\n",
      " [ 64  85 108 133]\n",
      " [160 189 220 253]]\n"
     ]
    }
   ],
   "source": [
    "# поэлементное умножение \n",
    "a = np.arange(12).reshape(3, -1)\n",
    "print(a)\n",
    "b = np.arange(12, 24).reshape(-1, 4)\n",
    "print(b)\n",
    "print(a * b)"
   ]
  },
  {
   "cell_type": "code",
   "execution_count": 170,
   "metadata": {},
   "outputs": [
    {
     "name": "stdout",
     "output_type": "stream",
     "text": [
      "[[3 7]\n",
      " [4 6]\n",
      " [7 3]]\n",
      "[[3 6]\n",
      " [5 6]\n",
      " [9 4]]\n"
     ]
    }
   ],
   "source": [
    "# Broadcasting (когда размерности не совпадают)\n",
    "a = np.array([[2, 5], [3, 4], [6, 1]])\n",
    "b = np.array([1, 2])\n",
    "print(a + b)\n",
    "\n",
    "c = np.array([[1], [2], [3]])\n",
    "print(a + c)"
   ]
  },
  {
   "cell_type": "code",
   "execution_count": 171,
   "metadata": {},
   "outputs": [
    {
     "name": "stdout",
     "output_type": "stream",
     "text": [
      "[[ 2 11  6  3]\n",
      " [ 8  2  4  2]\n",
      " [ 6  4  8  6]]\n"
     ]
    }
   ],
   "source": [
    "# Стастистические функции\n",
    "a = np.random.randint(0, 12, (3, 4))\n",
    "print(a)"
   ]
  },
  {
   "cell_type": "code",
   "execution_count": 175,
   "metadata": {},
   "outputs": [
    {
     "name": "stdout",
     "output_type": "stream",
     "text": [
      "2\n",
      "[2 2 4 2]\n"
     ]
    }
   ],
   "source": [
    "# минимальное значение\n",
    "print(a.min())\n",
    "print(a.min(axis = 0))"
   ]
  },
  {
   "cell_type": "code",
   "execution_count": 176,
   "metadata": {},
   "outputs": [
    {
     "name": "stdout",
     "output_type": "stream",
     "text": [
      "5.166666666666667\n",
      "[5.33333333 5.66666667 6.         3.66666667]\n"
     ]
    }
   ],
   "source": [
    "# среднее значение\n",
    "print(a.mean())\n",
    "print(a.mean(axis = 0))"
   ]
  },
  {
   "cell_type": "code",
   "execution_count": 177,
   "metadata": {},
   "outputs": [
    {
     "name": "stdout",
     "output_type": "stream",
     "text": [
      "2.733536577809454\n",
      "[2.49443826 3.8586123  1.63299316 1.69967317]\n"
     ]
    }
   ],
   "source": [
    "# среднеквадратичное отклонение\n",
    "print(a.std())\n",
    "print(a.std(axis = 0))"
   ]
  },
  {
   "cell_type": "code",
   "execution_count": 178,
   "metadata": {},
   "outputs": [
    {
     "data": {
      "text/plain": [
       "array([[ 2, 11,  6,  3],\n",
       "       [ 8,  2,  4,  2],\n",
       "       [ 6,  4,  8,  6]])"
      ]
     },
     "execution_count": 178,
     "metadata": {},
     "output_type": "execute_result"
    }
   ],
   "source": [
    "# прочитатть массив из файла\n",
    "# сохранение\n",
    "np.save('a.npy', a)\n",
    "# загрузка\n",
    "np.load('a.npy')\n"
   ]
  },
  {
   "cell_type": "code",
   "execution_count": null,
   "metadata": {},
   "outputs": [],
   "source": []
  }
 ],
 "metadata": {
  "kernelspec": {
   "display_name": "Python 3",
   "language": "python",
   "name": "python3"
  },
  "language_info": {
   "codemirror_mode": {
    "name": "ipython",
    "version": 3
   },
   "file_extension": ".py",
   "mimetype": "text/x-python",
   "name": "python",
   "nbconvert_exporter": "python",
   "pygments_lexer": "ipython3",
   "version": "3.7.4"
  }
 },
 "nbformat": 4,
 "nbformat_minor": 2
}
